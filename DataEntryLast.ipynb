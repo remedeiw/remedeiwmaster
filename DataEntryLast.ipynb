{
 "cells": [
  {
   "cell_type": "code",
   "execution_count": 1,
   "metadata": {},
   "outputs": [],
   "source": [
    "import pandas as pd\n",
    "import numpy as np\n",
    "import Functions"
   ]
  },
  {
   "cell_type": "code",
   "execution_count": null,
   "metadata": {},
   "outputs": [],
   "source": [
    "dataprofilesphase1 = pd.read_csv('Data/Lastprofile/PL3.csv')\n",
    "#dataprofilesphase2 = pd.read_csv('Data/Lastprofile/PL2.csv')\n",
    "#dataprofilesphase3 = pd.read_csv('Data/Lastprofile/PL3.csv')\n",
    "\n",
    "timestamps = pd.read_csv('Data/Lastprofile/time_datevec_MEZ.csv')"
   ]
  },
  {
   "cell_type": "code",
   "execution_count": null,
   "metadata": {},
   "outputs": [],
   "source": [
    "datapl1 = Functions.kumuliereLastprofilDaten(dataprofilesphase1,timestamps)\n",
    "datapl1.to_csv('PL3sum.csv')"
   ]
  },
  {
   "cell_type": "code",
   "execution_count": null,
   "metadata": {},
   "outputs": [],
   "source": [
    "datapl1 = pd.read_csv('PL3sum.csv', index_col=0)\n",
    "datapl1 = Functions.viertelstundentakt(datapl1)\n",
    "datapl1.to_csv('PL3sum.csv')"
   ]
  }
 ],
 "metadata": {
  "kernelspec": {
   "display_name": "Python 3",
   "language": "python",
   "name": "python3"
  },
  "language_info": {
   "codemirror_mode": {
    "name": "ipython",
    "version": 3
   },
   "file_extension": ".py",
   "mimetype": "text/x-python",
   "name": "python",
   "nbconvert_exporter": "python",
   "pygments_lexer": "ipython3",
   "version": "3.8.2"
  }
 },
 "nbformat": 4,
 "nbformat_minor": 4
}
