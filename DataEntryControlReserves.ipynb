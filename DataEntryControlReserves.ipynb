{
 "cells": [
  {
   "cell_type": "code",
   "execution_count": 3,
   "metadata": {},
   "outputs": [],
   "source": [
    "import pandas as pd"
   ]
  },
  {
   "cell_type": "code",
   "execution_count": 4,
   "metadata": {},
   "outputs": [],
   "source": [
    "datamfrr12 = pd.read_excel('Data/RESULT_OVERVIEW_mFRR_2019-12-01_2019-12-31.xlsx',sheet_name=0, index_col=0)\n",
    "datamfrr11 = pd.read_excel('Data/RESULT_OVERVIEW_mFRR_2019-11-01_2019-11-30.xlsx',sheet_name=0, index_col=0)\n",
    "datamfrr10 = pd.read_excel('Data/RESULT_OVERVIEW_mFRR_2019-10-01_2019-10-31.xlsx',sheet_name=0, index_col=0)\n",
    "datamfrr09 = pd.read_excel('Data/RESULT_OVERVIEW_mFRR_2019-09-01_2019-09-30.xlsx',sheet_name=0, index_col=0)\n",
    "datamfrr08 = pd.read_excel('Data/RESULT_OVERVIEW_mFRR_2019-08-01_2019-08-31.xlsx',sheet_name=0, index_col=0)\n",
    "datamfrr07 = pd.read_excel('Data/RESULT_OVERVIEW_mFRR_2019-07-01_2019-07-31.xlsx',sheet_name=0, index_col=0)\n",
    "datamfrr06 = pd.read_excel('Data/RESULT_OVERVIEW_mFRR_2019-06-01_2019-06-30.xlsx',sheet_name=0, index_col=0)\n",
    "datamfrr05 = pd.read_excel('Data/RESULT_OVERVIEW_mFRR_2019-05-01_2019-05-31.xlsx',sheet_name=0, index_col=0)\n",
    "datamfrr04 = pd.read_excel('Data/RESULT_OVERVIEW_mFRR_2019-04-01_2019-04-30.xlsx',sheet_name=0, index_col=0)\n",
    "datamfrr03 = pd.read_excel('Data/RESULT_OVERVIEW_mFRR_2019-03-01_2019-03-31.xlsx',sheet_name=0, index_col=0)\n",
    "datamfrr02 = pd.read_excel('Data/RESULT_OVERVIEW_mFRR_2019-02-01_2019-02-28.xlsx',sheet_name=0, index_col=0)\n",
    "datamfrr01 = pd.read_excel('Data/RESULT_OVERVIEW_mFRR_2019-01-01_2019-01-31.xlsx',sheet_name=0, index_col=0)"
   ]
  },
  {
   "cell_type": "code",
   "execution_count": 9,
   "metadata": {},
   "outputs": [],
   "source": [
    "datamfrr2019 = datamfrr01\n",
    "datamfrr2019 = datamfrr2019.append(datamfrr02)\n",
    "datamfrr2019 = datamfrr2019.append(datamfrr03)\n",
    "datamfrr2019 = datamfrr2019.append(datamfrr04)\n",
    "datamfrr2019 = datamfrr2019.append(datamfrr05)\n",
    "datamfrr2019 = datamfrr2019.append(datamfrr06)\n",
    "datamfrr2019 = datamfrr2019.append(datamfrr07)\n",
    "datamfrr2019 = datamfrr2019.append(datamfrr08)\n",
    "datamfrr2019 = datamfrr2019.append(datamfrr09)\n",
    "datamfrr2019 = datamfrr2019.append(datamfrr10)\n",
    "datamfrr2019 = datamfrr2019.append(datamfrr11)\n",
    "datamfrr2019 = datamfrr2019.append(datamfrr12)\n",
    "\n"
   ]
  },
  {
   "cell_type": "code",
   "execution_count": 10,
   "metadata": {},
   "outputs": [],
   "source": [
    "datamfrr2019.to_csv('datamfrr2019.csv', index = False)"
   ]
  },
  {
   "cell_type": "code",
   "execution_count": 12,
   "metadata": {},
   "outputs": [],
   "source": [
    "dataafrr12 = pd.read_excel('Data/RESULT_OVERVIEW_aFRR_2019-12-01_2019-12-31.xlsx',sheet_name=0, index_col=0)\n",
    "dataafrr11 = pd.read_excel('Data/RESULT_OVERVIEW_aFRR_2019-11-01_2019-11-30.xlsx',sheet_name=0, index_col=0)\n",
    "dataafrr10 = pd.read_excel('Data/RESULT_OVERVIEW_aFRR_2019-10-01_2019-10-31.xlsx',sheet_name=0, index_col=0)\n",
    "dataafrr09 = pd.read_excel('Data/RESULT_OVERVIEW_aFRR_2019-09-01_2019-09-30.xlsx',sheet_name=0, index_col=0)\n",
    "dataafrr08 = pd.read_excel('Data/RESULT_OVERVIEW_aFRR_2019-08-01_2019-08-31.xlsx',sheet_name=0, index_col=0)\n",
    "dataafrr07 = pd.read_excel('Data/RESULT_OVERVIEW_aFRR_2019-07-01_2019-07-31.xlsx',sheet_name=0, index_col=0)\n",
    "dataafrr06 = pd.read_excel('Data/RESULT_OVERVIEW_aFRR_2019-06-01_2019-06-30.xlsx',sheet_name=0, index_col=0)\n",
    "dataafrr05 = pd.read_excel('Data/RESULT_OVERVIEW_aFRR_2019-05-01_2019-05-31.xlsx',sheet_name=0, index_col=0)\n",
    "dataafrr04 = pd.read_excel('Data/RESULT_OVERVIEW_aFRR_2019-04-01_2019-04-30.xlsx',sheet_name=0, index_col=0)\n",
    "dataafrr03 = pd.read_excel('Data/RESULT_OVERVIEW_aFRR_2019-03-01_2019-03-31.xlsx',sheet_name=0, index_col=0)\n",
    "dataafrr02 = pd.read_excel('Data/RESULT_OVERVIEW_aFRR_2019-02-01_2019-02-28.xlsx',sheet_name=0, index_col=0)\n",
    "dataafrr01 = pd.read_excel('Data/RESULT_OVERVIEW_aFRR_2019-01-01_2019-01-31.xlsx',sheet_name=0, index_col=0)\n"
   ]
  },
  {
   "cell_type": "code",
   "execution_count": 13,
   "metadata": {},
   "outputs": [],
   "source": [
    "dataafrr2019 = dataafrr01\n",
    "dataafrr2019 = dataafrr2019.append(dataafrr02)\n",
    "dataafrr2019 = dataafrr2019.append(dataafrr03)\n",
    "dataafrr2019 = dataafrr2019.append(dataafrr04)\n",
    "dataafrr2019 = dataafrr2019.append(dataafrr05)\n",
    "dataafrr2019 = dataafrr2019.append(dataafrr06)\n",
    "dataafrr2019 = dataafrr2019.append(dataafrr07)\n",
    "dataafrr2019 = dataafrr2019.append(dataafrr08)\n",
    "dataafrr2019 = dataafrr2019.append(dataafrr09)\n",
    "dataafrr2019 = dataafrr2019.append(dataafrr10)\n",
    "dataafrr2019 = dataafrr2019.append(dataafrr11)\n",
    "dataafrr2019 = dataafrr2019.append(dataafrr12)"
   ]
  },
  {
   "cell_type": "code",
   "execution_count": 14,
   "metadata": {},
   "outputs": [],
   "source": [
    "dataafrr2019.to_csv('dataafrr2019.csv', index = False)"
   ]
  },
  {
   "cell_type": "code",
   "execution_count": 15,
   "metadata": {},
   "outputs": [],
   "source": [
    "datafcr12 = pd.read_excel('Data/RESULT_OVERVIEW_FCR_2019-12-01_2019-12-31.xlsx',sheet_name=0, index_col=0)\n",
    "datafcr11 = pd.read_excel('Data/RESULT_OVERVIEW_FCR_2019-11-01_2019-11-30.xlsx',sheet_name=0, index_col=0)\n",
    "datafcr10 = pd.read_excel('Data/RESULT_OVERVIEW_FCR_2019-10-01_2019-10-31.xlsx',sheet_name=0, index_col=0)\n",
    "datafcr09 = pd.read_excel('Data/RESULT_OVERVIEW_FCR_2019-09-01_2019-09-30.xlsx',sheet_name=0, index_col=0)\n",
    "datafcr08 = pd.read_excel('Data/RESULT_OVERVIEW_FCR_2019-08-01_2019-08-31.xlsx',sheet_name=0, index_col=0)\n",
    "datafcr07 = pd.read_excel('Data/RESULT_OVERVIEW_FCR_2019-07-01_2019-07-31.xlsx',sheet_name=0, index_col=0)\n",
    "datafcr06 = pd.read_excel('Data/RESULT_OVERVIEW_FCR_2019-06-01_2019-06-30.xlsx',sheet_name=0, index_col=0)\n",
    "datafcr05 = pd.read_excel('Data/RESULT_OVERVIEW_FCR_2019-05-01_2019-05-31.xlsx',sheet_name=0, index_col=0)\n",
    "datafcr04 = pd.read_excel('Data/RESULT_OVERVIEW_FCR_2019-04-01_2019-04-30.xlsx',sheet_name=0, index_col=0)\n",
    "datafcr03 = pd.read_excel('Data/RESULT_OVERVIEW_FCR_2019-03-01_2019-03-31.xlsx',sheet_name=0, index_col=0)\n",
    "datafcr02 = pd.read_excel('Data/RESULT_OVERVIEW_FCR_2019-02-01_2019-02-28.xlsx',sheet_name=0, index_col=0)\n",
    "datafcr01 = pd.read_excel('Data/RESULT_OVERVIEW_FCR_2019-01-01_2019-01-31.xlsx',sheet_name=0, index_col=0)"
   ]
  },
  {
   "cell_type": "code",
   "execution_count": 16,
   "metadata": {},
   "outputs": [],
   "source": [
    "datafcr2019 = datafcr01\n",
    "datafcr2019 = datafcr2019.append(dataafrr02)\n",
    "datafcr2019 = datafcr2019.append(dataafrr03)\n",
    "datafcr2019 = datafcr2019.append(dataafrr04)\n",
    "datafcr2019 = datafcr2019.append(dataafrr05)\n",
    "datafcr2019 = datafcr2019.append(dataafrr06)\n",
    "datafcr2019 = datafcr2019.append(dataafrr07)\n",
    "datafcr2019 = datafcr2019.append(dataafrr08)\n",
    "datafcr2019 = datafcr2019.append(dataafrr09)\n",
    "datafcr2019 = datafcr2019.append(dataafrr10)\n",
    "datafcr2019 = datafcr2019.append(dataafrr11)\n",
    "datafcr2019 = datafcr2019.append(dataafrr12)"
   ]
  },
  {
   "cell_type": "code",
   "execution_count": 17,
   "metadata": {},
   "outputs": [],
   "source": [
    "datafcr2019.to_csv('datafcr2019.csv', index = False)"
   ]
  }
 ],
 "metadata": {
  "kernelspec": {
   "display_name": "Python 3",
   "language": "python",
   "name": "python3"
  },
  "language_info": {
   "codemirror_mode": {
    "name": "ipython",
    "version": 3
   },
   "file_extension": ".py",
   "mimetype": "text/x-python",
   "name": "python",
   "nbconvert_exporter": "python",
   "pygments_lexer": "ipython3",
   "version": "3.8.2"
  }
 },
 "nbformat": 4,
 "nbformat_minor": 4
}
